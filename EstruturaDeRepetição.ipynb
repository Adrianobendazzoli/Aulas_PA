{
  "nbformat": 4,
  "nbformat_minor": 0,
  "metadata": {
    "colab": {
      "provenance": [],
      "authorship_tag": "ABX9TyN5mrjD4Q35UKz0YqLRVVpb",
      "include_colab_link": true
    },
    "kernelspec": {
      "name": "python3",
      "display_name": "Python 3"
    },
    "language_info": {
      "name": "python"
    }
  },
  "cells": [
    {
      "cell_type": "markdown",
      "metadata": {
        "id": "view-in-github",
        "colab_type": "text"
      },
      "source": [
        "<a href=\"https://colab.research.google.com/github/Adrianobendazzoli/Aulas_PA/blob/main/EstruturaDeRepeti%C3%A7%C3%A3o.ipynb\" target=\"_parent\"><img src=\"https://colab.research.google.com/assets/colab-badge.svg\" alt=\"Open In Colab\"/></a>"
      ]
    },
    {
      "cell_type": "code",
      "execution_count": 3,
      "metadata": {
        "colab": {
          "base_uri": "https://localhost:8080/"
        },
        "id": "qcvXU8JiY7iz",
        "outputId": "2a7fdb2c-10c9-45e1-cdc2-ecd4807cc1da"
      },
      "outputs": [
        {
          "output_type": "stream",
          "name": "stdout",
          "text": [
            "bom dia\n",
            "bom dia\n",
            "bom dia\n",
            "bom dia\n",
            "bom dia\n",
            "bom dia\n",
            "bom dia\n",
            "bom dia\n",
            "bom dia\n",
            "bom dia\n"
          ]
        }
      ],
      "source": [
        "print (\"bom dia\")\n",
        "print (\"bom dia\")\n",
        "print (\"bom dia\")\n",
        "print (\"bom dia\")\n",
        "print (\"bom dia\")\n",
        "print (\"bom dia\")\n",
        "print (\"bom dia\")\n",
        "print (\"bom dia\")\n",
        "print (\"bom dia\")\n",
        "print (\"bom dia\")\n"
      ]
    },
    {
      "cell_type": "code",
      "source": [
        "#LAÇO DE  REPETIÇÃO FOR\n",
        "for i in range(1,11) :\n",
        "  print (i,\"bom dia\")"
      ],
      "metadata": {
        "colab": {
          "base_uri": "https://localhost:8080/"
        },
        "id": "5-wFjjI2ZxjE",
        "outputId": "d21ac556-4b1b-4410-e8f9-dafd6c778846"
      },
      "execution_count": 7,
      "outputs": [
        {
          "output_type": "stream",
          "name": "stdout",
          "text": [
            "1 bom dia\n",
            "2 bom dia\n",
            "3 bom dia\n",
            "4 bom dia\n",
            "5 bom dia\n",
            "6 bom dia\n",
            "7 bom dia\n",
            "8 bom dia\n",
            "9 bom dia\n",
            "10 bom dia\n"
          ]
        }
      ]
    },
    {
      "cell_type": "code",
      "source": [
        "# MOSTRAR TODOS OS NÚMEROS ÍMPARES DE 1 A 30\n",
        "for i in range(1,31):\n",
        "    if i%2 == 1:\n",
        "      print(i)"
      ],
      "metadata": {
        "colab": {
          "base_uri": "https://localhost:8080/"
        },
        "id": "38C2PwEkbfed",
        "outputId": "3c82a959-04bc-4d0c-b56a-6db9149a5ef3"
      },
      "execution_count": 11,
      "outputs": [
        {
          "output_type": "stream",
          "name": "stdout",
          "text": [
            "1\n",
            "3\n",
            "5\n",
            "7\n",
            "9\n",
            "11\n",
            "13\n",
            "15\n",
            "17\n",
            "19\n",
            "21\n",
            "23\n",
            "25\n",
            "27\n",
            "29\n"
          ]
        }
      ]
    },
    {
      "cell_type": "code",
      "source": [
        "#CONTADOR DE UM NÚMERO INICIAL E UM NÚMERO FINAL\n",
        "#DIGITADOS PELO USUÁRIO\n",
        "\n",
        "inicio = int(input(\"Digite o número inicial \"))\n",
        "fim = int(input(\"Digite o número final \"))\n",
        "\n",
        "#SE O INICIO FOR MAIOR QUE O FIM\n",
        "\n",
        "#if  inicio >  fim :\n",
        "  #aux = inicio\n",
        "  #inicio = fim\n",
        "  #fim = aux\n",
        "\n",
        "if inicio > fim :\n",
        " inicio,fim = fim,inicio\n",
        "\n",
        "for i in range (inicio,fim+1):\n",
        " print (i)\n"
      ],
      "metadata": {
        "colab": {
          "base_uri": "https://localhost:8080/"
        },
        "id": "68nEnPWWfb7I",
        "outputId": "c06a9466-b4c3-44c5-8414-f53bc7d75bdf"
      },
      "execution_count": 23,
      "outputs": [
        {
          "output_type": "stream",
          "name": "stdout",
          "text": [
            "Digite o número inicial 10\n",
            "Digite o número final 1\n",
            "1\n",
            "2\n",
            "3\n",
            "4\n",
            "5\n",
            "6\n",
            "7\n",
            "8\n",
            "9\n",
            "10\n"
          ]
        }
      ]
    },
    {
      "cell_type": "code",
      "source": [
        "#SOME TODOS OS NÚMEROS DE 1 A 1O\n",
        "soma = 0\n",
        "for a in range (1,11):\n",
        " soma = soma + a\n",
        " print (\"Acumulado = \",soma)\n",
        "\n",
        "print (\"Total = \",soma)"
      ],
      "metadata": {
        "colab": {
          "base_uri": "https://localhost:8080/"
        },
        "id": "s9JPH4lsjnLg",
        "outputId": "9dd4c4dc-c61c-410e-a68e-7f4ae8e1ccc3"
      },
      "execution_count": 30,
      "outputs": [
        {
          "output_type": "stream",
          "name": "stdout",
          "text": [
            "Acumulado =  1\n",
            "Acumulado =  3\n",
            "Acumulado =  6\n",
            "Acumulado =  10\n",
            "Acumulado =  15\n",
            "Acumulado =  21\n",
            "Acumulado =  28\n",
            "Acumulado =  36\n",
            "Acumulado =  45\n",
            "Acumulado =  55\n",
            "Total =  55\n"
          ]
        }
      ]
    },
    {
      "cell_type": "code",
      "source": [
        "#SOME OS NÚMEROS IMPARES ATÉ 100\n",
        "soma = 0\n",
        "\n",
        "\n",
        "for x in range (1,101) :\n",
        "  if x%2 == 1:\n",
        "    soma = soma + x\n",
        "\n",
        "print (\"Total = \",soma)\n",
        ""
      ],
      "metadata": {
        "colab": {
          "base_uri": "https://localhost:8080/"
        },
        "id": "WGOSe0dClcyu",
        "outputId": "abc320dd-7f63-44d3-f007-1e3f9db0d24c"
      },
      "execution_count": 41,
      "outputs": [
        {
          "output_type": "stream",
          "name": "stdout",
          "text": [
            "Total =  2500\n"
          ]
        }
      ]
    },
    {
      "cell_type": "code",
      "source": [
        "#CONTADOR DE 1 A 10 COM WHILE\n",
        "\n",
        "num = 1\n",
        "while (num <= 10):\n",
        "  print(num)\n",
        "  #num = num + 1\n",
        "  num += 1\n"
      ],
      "metadata": {
        "colab": {
          "base_uri": "https://localhost:8080/"
        },
        "id": "_Vy7WzF5oFuX",
        "outputId": "c2d3e24a-d836-4361-9a79-56ae10bb9bda"
      },
      "execution_count": 47,
      "outputs": [
        {
          "output_type": "stream",
          "name": "stdout",
          "text": [
            "1\n",
            "2\n",
            "3\n",
            "4\n",
            "5\n",
            "6\n",
            "7\n",
            "8\n",
            "9\n",
            "10\n"
          ]
        }
      ]
    },
    {
      "cell_type": "code",
      "source": [
        "# DIGITE NÚMEROS ATÉ QUE O USUÁRIO DIGITE 0\n",
        "\n",
        "numero = int(input(\"Digite um número \"))\n",
        "while numero != 0:\n",
        " numero = int(input(\"Digite um número \"))"
      ],
      "metadata": {
        "colab": {
          "base_uri": "https://localhost:8080/"
        },
        "id": "gMN-UmceqHGP",
        "outputId": "d3c3f61c-c06d-4aa8-e10a-d5bec6167a3b"
      },
      "execution_count": 52,
      "outputs": [
        {
          "name": "stdout",
          "output_type": "stream",
          "text": [
            "Digite um número 2\n",
            "Digite um número 2\n",
            "Digite um número 3\n",
            "Digite um número 0\n"
          ]
        }
      ]
    },
    {
      "cell_type": "code",
      "source": [
        "#SOMAR NÚMEROS ATÉ QUE O USUÁRIO DIGITE 0\n",
        "numero = int(input(\"Digite um número \"))\n",
        "soma = numero\n",
        "while numero != 0:\n",
        " numero = int(input(\"Digite um número \"))\n",
        " soma += numero\n",
        "\n",
        "print(\"Total = \",soma)"
      ],
      "metadata": {
        "colab": {
          "base_uri": "https://localhost:8080/"
        },
        "id": "1p-RNT5ZxWoT",
        "outputId": "f0031581-bc7a-4e55-fd3f-1f561398bb2a"
      },
      "execution_count": 66,
      "outputs": [
        {
          "output_type": "stream",
          "name": "stdout",
          "text": [
            "Digite um número 895\n",
            "Digite um número 567\n",
            "Digite um número 654\n",
            "Digite um número 546\n",
            "Digite um número 654\n",
            "Digite um número 536\n",
            "Digite um número 4532\n",
            "Digite um número 0\n",
            "Total =  8384\n"
          ]
        }
      ]
    },
    {
      "cell_type": "code",
      "source": [
        "# CRIANDO UM MENU DE OPÇÕES\n",
        "\n",
        "print (\"ESCOLHA UMA OPÇÃO \")\n",
        "print (\"DIGITE 1 PARA OPÇÃO 01\")\n",
        "print (\"DIGITE 2 PARA OPÇÃO 02\")\n",
        "print (\"DIGITE 3 PARA OPÇÃO 03\")\n",
        "print (\"DIGITE 4 PARA SAIR\")\n",
        "opcao = int(input(\"Sua opção = \"))\n",
        "\n",
        "if opcao == 1 :\n",
        "  print (\"Você escolheu a opção 01\")\n",
        "  print()\n",
        "  print(\"**********************\")\n",
        "if opcao == 2 :\n",
        "  print (\"Você escolheu a opção 02\")\n",
        "  print()\n",
        "  print(\"**********************\")\n",
        "if opcao == 3 :\n",
        "  print (\"Você escolheu a opção 03\")\n",
        "  print()\n",
        "  print(\"**********************\")\n"
      ],
      "metadata": {
        "colab": {
          "base_uri": "https://localhost:8080/"
        },
        "id": "9LnLjbuczSQZ",
        "outputId": "e9c3dd3a-906e-4905-f18a-2ab8f7146800"
      },
      "execution_count": 68,
      "outputs": [
        {
          "name": "stdout",
          "output_type": "stream",
          "text": [
            "ESCOLHA UMA OPÇÃO \n",
            "DIGITE 1 PARA OPÇÃO 01\n",
            "DIGITE 2 PARA OPÇÃO 02\n",
            "DIGITE 3 PARA OPÇÃO 03\n",
            "DIGITE 4 PARA SAIR\n",
            "Sua opção = 4\n"
          ]
        }
      ]
    }
  ]
}