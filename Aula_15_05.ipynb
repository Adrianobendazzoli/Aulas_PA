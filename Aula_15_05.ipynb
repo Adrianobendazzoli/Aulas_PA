{
  "nbformat": 4,
  "nbformat_minor": 0,
  "metadata": {
    "colab": {
      "provenance": [],
      "authorship_tag": "ABX9TyMcTuIjIeeBp8HFhG8MyuV2",
      "include_colab_link": true
    },
    "kernelspec": {
      "name": "python3",
      "display_name": "Python 3"
    },
    "language_info": {
      "name": "python"
    }
  },
  "cells": [
    {
      "cell_type": "markdown",
      "metadata": {
        "id": "view-in-github",
        "colab_type": "text"
      },
      "source": [
        "<a href=\"https://colab.research.google.com/github/Adrianobendazzoli/Aulas_PA/blob/main/Aula_15_05.ipynb\" target=\"_parent\"><img src=\"https://colab.research.google.com/assets/colab-badge.svg\" alt=\"Open In Colab\"/></a>"
      ]
    },
    {
      "cell_type": "markdown",
      "source": [
        "Escreva um algoritimo que leia 20 valores inteiros e ao final exiba:\n",
        "\n",
        "a) a soma dos números positivos\n",
        "b) a quantidade de valores negativos"
      ],
      "metadata": {
        "id": "p9rwYxaLcPP1"
      }
    },
    {
      "cell_type": "code",
      "execution_count": 25,
      "metadata": {
        "colab": {
          "base_uri": "https://localhost:8080/"
        },
        "id": "dnsh7Didbxh_",
        "outputId": "b950e6b6-f149-47a2-8d6b-1ff6fb506d39"
      },
      "outputs": [
        {
          "output_type": "stream",
          "name": "stdout",
          "text": [
            "Digite um número inteiro: -9\n",
            "Digite um número inteiro: 9\n",
            "Digite um número inteiro: 10\n",
            "Digite um número inteiro: 3\n",
            "Média =  3.25\n",
            "A soma de positivos é :  3\n",
            "A quantidade de negativos é :  -9\n"
          ]
        }
      ],
      "source": [
        "soma_positivos = 0\n",
        "qtde_negativos = 0\n",
        "soma_total = 0\n",
        "for x in range (1,5):\n",
        " numero = int(input(\"Digite um número inteiro: \"))\n",
        " soma_total= soma_total + numero\n",
        " if numero < 0:\n",
        "   qtde_negativos += numero\n",
        "else:\n",
        "   soma_positivos = soma_positivos + numero\n",
        "\n",
        "media = soma_total/x\n",
        "print (\"Média = \",media)\n",
        "print (\"A soma de positivos é : \",soma_positivos)\n",
        "print (\"A quantidade de negativos é : \",qtde_negativos)\n"
      ]
    },
    {
      "cell_type": "markdown",
      "source": [
        "Escreva um programa que solicite um número inteiro e positivo para o usuário e na sequência o programa deve caucular um valor como mostrado no exemplo abaixo .\n",
        "\n",
        "número digitado: 4\n",
        "\n",
        "valor: 1/1 + 1/2 + 1/3 + 1/4\n",
        "\n",
        "valor = 2,08"
      ],
      "metadata": {
        "id": "aMLMUfd_lGNx"
      }
    },
    {
      "cell_type": "code",
      "source": [
        "numero = int(input(\"Digite um número inteiro: \"))\n",
        "valor = 0\n",
        "for x in range (1, numero + 1) :\n",
        " print (x)\n",
        " valor = valor + 1/x\n",
        " print(\"Valor total = \",valor)\n"
      ],
      "metadata": {
        "colab": {
          "base_uri": "https://localhost:8080/"
        },
        "id": "TTzsicRpmNR8",
        "outputId": "8a0c5336-056d-4f14-fe95-cfba07066d2f"
      },
      "execution_count": 32,
      "outputs": [
        {
          "output_type": "stream",
          "name": "stdout",
          "text": [
            "Digite um número inteiro: 9\n",
            "1\n",
            "Valor total =  1.0\n",
            "2\n",
            "Valor total =  1.5\n",
            "3\n",
            "Valor total =  1.8333333333333333\n",
            "4\n",
            "Valor total =  2.083333333333333\n",
            "5\n",
            "Valor total =  2.283333333333333\n",
            "6\n",
            "Valor total =  2.4499999999999997\n",
            "7\n",
            "Valor total =  2.5928571428571425\n",
            "8\n",
            "Valor total =  2.7178571428571425\n",
            "9\n",
            "Valor total =  2.8289682539682537\n"
          ]
        }
      ]
    },
    {
      "cell_type": "markdown",
      "source": [
        "Trabalhando com strings em laços de repetição"
      ],
      "metadata": {
        "id": "qjNS-Vknqpvs"
      }
    },
    {
      "cell_type": "code",
      "source": [
        "nome = \"Adriano\"\n",
        "\n",
        "qtde_letras =len(nome)\n",
        "qtde_letras"
      ],
      "metadata": {
        "colab": {
          "base_uri": "https://localhost:8080/"
        },
        "id": "_aMJN8_fqt-v",
        "outputId": "d3e23947-8290-4f49-c6b1-39b94bdf21b2"
      },
      "execution_count": 33,
      "outputs": [
        {
          "output_type": "execute_result",
          "data": {
            "text/plain": [
              "7"
            ]
          },
          "metadata": {},
          "execution_count": 33
        }
      ]
    },
    {
      "cell_type": "code",
      "source": [
        "for letra in nome:\n",
        "  print(letra)"
      ],
      "metadata": {
        "colab": {
          "base_uri": "https://localhost:8080/"
        },
        "id": "WlUO3QGhsRo-",
        "outputId": "92674e52-c74b-4a29-c264-a6d1564da8e7"
      },
      "execution_count": 34,
      "outputs": [
        {
          "output_type": "stream",
          "name": "stdout",
          "text": [
            "A\n",
            "d\n",
            "r\n",
            "i\n",
            "a\n",
            "n\n",
            "o\n"
          ]
        }
      ]
    },
    {
      "cell_type": "markdown",
      "source": [
        "Split(quebra com base em um critério)"
      ],
      "metadata": {
        "id": "nr6HQab5sqi5"
      }
    },
    {
      "cell_type": "code",
      "source": [
        "nome\n"
      ],
      "metadata": {
        "colab": {
          "base_uri": "https://localhost:8080/",
          "height": 35
        },
        "id": "jRQXbaFKs_Gv",
        "outputId": "488f3502-f1b6-4927-fd5e-416dca30af50"
      },
      "execution_count": 35,
      "outputs": [
        {
          "output_type": "execute_result",
          "data": {
            "text/plain": [
              "'Adriano'"
            ],
            "application/vnd.google.colaboratory.intrinsic+json": {
              "type": "string"
            }
          },
          "metadata": {},
          "execution_count": 35
        }
      ]
    },
    {
      "cell_type": "code",
      "source": [
        "separado =nome.split()\n",
        "separado\n"
      ],
      "metadata": {
        "colab": {
          "base_uri": "https://localhost:8080/"
        },
        "id": "bYplEnkVtiTN",
        "outputId": "fc805a66-8893-4cde-b890-2058cc527e20"
      },
      "execution_count": 39,
      "outputs": [
        {
          "output_type": "execute_result",
          "data": {
            "text/plain": [
              "['Adriano']"
            ]
          },
          "metadata": {},
          "execution_count": 39
        }
      ]
    },
    {
      "cell_type": "code",
      "source": [
        "bandeira = False\n",
        "for verificator in \"Phyton\":\n",
        " if verificator == \"h\" :\n",
        "  print(\"Achei a letra h\")\n",
        "  break\n",
        "else:\n",
        "  bandeira == True\n",
        "\n",
        "if bandeira == False:\n",
        " print(\"Existe\")\n",
        "else:\n",
        "  print(\"Não achei a letra h\")\n",
        "  print(\"Não existe\")\n"
      ],
      "metadata": {
        "colab": {
          "base_uri": "https://localhost:8080/"
        },
        "id": "-xFeATN2vzBN",
        "outputId": "69ff04d0-3aee-490e-ebeb-2ff5286f7829"
      },
      "execution_count": 94,
      "outputs": [
        {
          "output_type": "stream",
          "name": "stdout",
          "text": [
            "Achei a letra h\n",
            "Existe\n"
          ]
        }
      ]
    },
    {
      "cell_type": "markdown",
      "source": [],
      "metadata": {
        "id": "LATuw1Rp43vo"
      }
    }
  ]
}