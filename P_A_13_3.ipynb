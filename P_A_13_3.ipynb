{
  "nbformat": 4,
  "nbformat_minor": 0,
  "metadata": {
    "colab": {
      "provenance": [],
      "authorship_tag": "ABX9TyMGvLrpncOghwmjiEED+NfT",
      "include_colab_link": true
    },
    "kernelspec": {
      "name": "python3",
      "display_name": "Python 3"
    },
    "language_info": {
      "name": "python"
    }
  },
  "cells": [
    {
      "cell_type": "markdown",
      "metadata": {
        "id": "view-in-github",
        "colab_type": "text"
      },
      "source": [
        "<a href=\"https://colab.research.google.com/github/Adrianobendazzoli/Aulas_PA/blob/main/P_A_13_3.ipynb\" target=\"_parent\"><img src=\"https://colab.research.google.com/assets/colab-badge.svg\" alt=\"Open In Colab\"/></a>"
      ]
    },
    {
      "cell_type": "code",
      "source": [],
      "metadata": {
        "id": "-s9S_2wgSiJp"
      },
      "execution_count": null,
      "outputs": []
    },
    {
      "cell_type": "markdown",
      "source": [
        "ENTRADA E SAÍDA DE PEÇAS\n"
      ],
      "metadata": {
        "id": "T9V0cfzVYLGV"
      }
    },
    {
      "cell_type": "code",
      "execution_count": null,
      "metadata": {
        "colab": {
          "base_uri": "https://localhost:8080/"
        },
        "id": "_A-wadKERz3m",
        "outputId": "6f3f68b9-2a5a-4fbb-fd00-9462f26c914b"
      },
      "outputs": [
        {
          "output_type": "stream",
          "name": "stdout",
          "text": [
            "digite o valor da peça= 70\n",
            "digite a quantidade de peças= 1000\n",
            "o valor total das peças é = 70000\n"
          ]
        }
      ],
      "source": [
        "valor = int(input (\"digite o valor da peça= \"))\n",
        "quantidade = int(input (\"digite a quantidade de peças= \"))\n",
        "vt = valor * quantidade\n",
        "print (\"o valor total das peças é =\",(vt))\n",
        "\n",
        "\n"
      ]
    },
    {
      "cell_type": "markdown",
      "source": [
        "ESTOQUE MÉDIO DE PEÇAS"
      ],
      "metadata": {
        "id": "uZqeKiD0YdA1"
      }
    },
    {
      "cell_type": "code",
      "source": [
        "qtdmin = int(input(\"digite a quantidade miníma= \"))\n",
        "qtdmax = int(input(\"digite a quantidade máxima= \"))\n",
        "estoquemedio = (qtdmin + qtdmax) / 2\n",
        "print (\"o estoque médio é de= \",(estoquemedio))"
      ],
      "metadata": {
        "colab": {
          "base_uri": "https://localhost:8080/"
        },
        "id": "rtPOZkN2YIIz",
        "outputId": "a088b78d-b8d2-45a0-ecf1-b172f9a000da"
      },
      "execution_count": null,
      "outputs": [
        {
          "output_type": "stream",
          "name": "stdout",
          "text": [
            "digite a quantidade miníma= 10\n",
            "digite a quantidade máxima= 1000\n",
            "o estoque médio é de=  505.0\n"
          ]
        }
      ]
    },
    {
      "cell_type": "markdown",
      "source": [
        "CONVERTER EM DÓLAR"
      ],
      "metadata": {
        "id": "vqezl6YSa36u"
      }
    },
    {
      "cell_type": "code",
      "source": [
        "dolar = 4.98\n",
        "valoraconverter = int(input(\"escreva o valor em reais que quer converter em dólar= \"))\n",
        "resultado = valoraconverter / dolar\n",
        "print (\"o resultado da conversão é de= \",(resultado))"
      ],
      "metadata": {
        "colab": {
          "base_uri": "https://localhost:8080/"
        },
        "id": "Pp3aCSjoa8FH",
        "outputId": "add0e734-125e-4e62-f75b-0cc4555c28c5"
      },
      "execution_count": null,
      "outputs": [
        {
          "output_type": "stream",
          "name": "stdout",
          "text": [
            "escreva o valor em reais que quer converter em dólar= 20\n",
            "o resultado da conversão é de=  4.016064257028112\n"
          ]
        }
      ]
    },
    {
      "cell_type": "markdown",
      "source": [
        "LER 4 NÚMEROS"
      ],
      "metadata": {
        "id": "RUQH19rdeXsT"
      }
    },
    {
      "cell_type": "code",
      "source": [
        "n1 = int(input(\"digite o número 1 = \"))\n",
        "n2 = int(input(\"digite o número 2 = \"))\n",
        "n3 = int(input(\"digite o número 3 = \"))\n",
        "n4 = int(input(\"digite o número 4 = \"))\n",
        "\n",
        "q1= n1*2\n",
        "q2= n2*2\n",
        "q3= n3*2\n",
        "q4= n4*2\n",
        "\n",
        "soma= q1+q2+q3+q4\n",
        "\n",
        "print(\"O quadrado desses números é de= \",q1,q2,q3,q4,\"e a soma de todos eles é de= \",soma)\n"
      ],
      "metadata": {
        "id": "4Et9V_sSeuTk",
        "colab": {
          "base_uri": "https://localhost:8080/"
        },
        "outputId": "a232da53-4962-429f-f5da-4b497e8ee07f"
      },
      "execution_count": null,
      "outputs": [
        {
          "output_type": "stream",
          "name": "stdout",
          "text": [
            "digite o número 1 = 1\n",
            "digite o número 2 = 2\n",
            "digite o número 3 = 3\n",
            "digite o número 4 = 4\n",
            "O quadrado desses números é de=  2 4 6 8 e a soma de todos eles é de=  20\n"
          ]
        }
      ]
    },
    {
      "cell_type": "markdown",
      "source": [
        "PAGAMENTO DE COMISSÃO"
      ],
      "metadata": {
        "id": "gnXPfpVzimN0"
      }
    },
    {
      "cell_type": "code",
      "source": [
        "preco_unitario = int(input(\"qual o preço das peças vendidas? \"))\n",
        "quantidade_de_vendas = int(input(\"quantas peças foram vendidas? \"))\n",
        "\n",
        "preco_total = preco_unitario * quantidade_de_vendas\n",
        "comissao =5% preco_total\n",
        "print(\"O preço total das vendas é de R$\",preco_total,\"e a comissão dos vendedores é de R$\",comissao)\n"
      ],
      "metadata": {
        "colab": {
          "base_uri": "https://localhost:8080/"
        },
        "id": "vKyEfgObij73",
        "outputId": "f902c122-5e9a-4861-aa83-4e43be734c1e"
      },
      "execution_count": null,
      "outputs": [
        {
          "output_type": "stream",
          "name": "stdout",
          "text": [
            "qual o preço das peças vendidas? 10\n",
            "quantas peças foram vendidas? 10\n",
            "O preço total das vendas é de R$ 100 e a comissão dos vendedores é de R$ 5\n"
          ]
        }
      ]
    },
    {
      "cell_type": "markdown",
      "source": [
        "CARRO"
      ],
      "metadata": {
        "id": "TySNNrS2k-eD"
      }
    },
    {
      "cell_type": "code",
      "source": [
        "custo_de_fabrica = int(input(\"Qual o valor do custo de fábrica desse carro? (número inteiro) \"))\n",
        "impostos =  45% custo_de_fabrica\n",
        "distribuicao = 28% impostos\n",
        "para_o_consumidor = custo_de_fabrica + impostos + distribuicao\n",
        "print(\"O custo de fábrica desse carro é de: \",custo_de_fabrica)\n",
        "print(\"O preço que o consumidor paga é de: \",para_o_consumidor)"
      ],
      "metadata": {
        "colab": {
          "base_uri": "https://localhost:8080/"
        },
        "id": "3L5pN8cpk52d",
        "outputId": "ebe5a59d-eb7f-475b-89cd-7abfe9d99bd0"
      },
      "execution_count": null,
      "outputs": [
        {
          "output_type": "stream",
          "name": "stdout",
          "text": [
            "Qual o valor do custo de fábrica desse carro? (número inteiro) 10000\n",
            "O custo de fábrica desse carro é de:  10000\n",
            "O preço que o consumidor paga é de:  10073\n"
          ]
        }
      ]
    },
    {
      "cell_type": "markdown",
      "source": [
        "CONVERSÃO DE MINUTOS E HORAS EM SEGUNDOS"
      ],
      "metadata": {
        "id": "Ku3Nl-PTBmIm"
      }
    },
    {
      "cell_type": "code",
      "source": [
        "horas_e_minutos = int(input(\"digite o número de horas e minutos: \"))\n",
        "segundos = horas_e_minutos*60\n",
        "print(\"A conversão é igual a\",segundos,\"segundos\" )\n",
        "\n"
      ],
      "metadata": {
        "colab": {
          "base_uri": "https://localhost:8080/"
        },
        "id": "t7Ehxc4cBtbG",
        "outputId": "2cb11d86-9d4e-4122-ccf0-1f693ed32a36"
      },
      "execution_count": null,
      "outputs": [
        {
          "output_type": "stream",
          "name": "stdout",
          "text": [
            "digite o número de horas e minutos: 740\n",
            "A conversão é igual a 44400 segundos\n"
          ]
        }
      ]
    },
    {
      "cell_type": "markdown",
      "source": [
        "HORA EXTRA"
      ],
      "metadata": {
        "id": "wW6wLLHPIimB"
      }
    },
    {
      "cell_type": "code",
      "source": [
        "horas_trabalhadas = float(input(\"Número de horas trabalhadas: \"))\n",
        "minutos_trabalhados = float(input(\"Número de minutos trabalhados: \"))\n",
        "valor_por_hora = float(input(\"Quanto ganha por hora: \"))\n",
        "\n",
        "horas_totais=horas_trabalhadas + minutos_trabalhados\n",
        "valor_total= valor_por_hora * horas_totais\n",
        "porcentagem=70% valor_total + valor_total\n",
        "comissao= horas_totais + valor_total+porcentagem\n",
        "\n",
        "print(\"Você irá receber R$\",comissao,\"por horas trabalhadas\")\n"
      ],
      "metadata": {
        "colab": {
          "base_uri": "https://localhost:8080/"
        },
        "id": "UQZ06ElTIn6f",
        "outputId": "55ebc9fe-c4fc-4e28-ce3b-6b55836d3bc6"
      },
      "execution_count": null,
      "outputs": [
        {
          "output_type": "stream",
          "name": "stdout",
          "text": [
            "Número de horas trabalhadas: 15.00\n",
            "Número de minutos trabalhados: 00.45\n",
            "Quanto ganha por hora: 25.00\n",
            "Você irá receber R$ 857.95 por horas trabalhadas\n"
          ]
        }
      ]
    },
    {
      "cell_type": "markdown",
      "source": [
        "QUANTIDADE DE GASOLINA NUMA VIAGEM"
      ],
      "metadata": {
        "id": "DDOYbTjnpoZA"
      }
    },
    {
      "cell_type": "code",
      "source": [
        "km_a_percorrer= float(input(\"Quilõmetros a percorrer: \"))\n",
        "consumo_de_gasolina= float(input(\"Quantos litros de gasolina seu carro consome por km?:  \"))\n",
        "preco_da_gasolina= 4.50\n",
        "\n",
        "gasto = km_a_percorrer / consumo_de_gasolina * preco_da_gasolina\n",
        "\n",
        "print (\"Você gastará R$\",gasto,\"em gasolina nessa viajem\")"
      ],
      "metadata": {
        "colab": {
          "base_uri": "https://localhost:8080/"
        },
        "id": "yFmf6n4apneD",
        "outputId": "65138d2c-6570-45fa-8fa5-5b0eba98939b"
      },
      "execution_count": null,
      "outputs": [
        {
          "output_type": "stream",
          "name": "stdout",
          "text": [
            "Quilõmetros a percorrer: 450.00\n",
            "Quantos litros de gasolina seu carro consome por km?:  10.00\n",
            "Você gastará R$ 202.5 em gasolina nessa viajem\n"
          ]
        }
      ]
    },
    {
      "cell_type": "code",
      "source": [],
      "metadata": {
        "id": "O11iHYPQmVoj"
      },
      "execution_count": null,
      "outputs": []
    },
    {
      "cell_type": "markdown",
      "source": [
        "VELOCIDADE MÉDIA DE UM CARRO"
      ],
      "metadata": {
        "id": "Zu9K7jriklJZ"
      }
    },
    {
      "cell_type": "code",
      "source": [
        "hr = float(input(\" Digite a quantidade de horas: \"))\n",
        "min = float(input(\" Digite a quantidade de minutos: \"))\n",
        "conversao = hr+min/60\n",
        "\n",
        "print(\"Conversão: \",conversao)\n",
        "\n"
      ],
      "metadata": {
        "id": "XZJVEj0ItfaA",
        "colab": {
          "base_uri": "https://localhost:8080/"
        },
        "outputId": "40ad3af3-2aa9-4dbf-f97a-3f00f2fd8c8b"
      },
      "execution_count": null,
      "outputs": [
        {
          "output_type": "stream",
          "name": "stdout",
          "text": [
            " Digite a quantidade de horas: 3\n",
            " Digite a quantidade de minutos: 40\n",
            "Conversão:  3.6666666666666665\n"
          ]
        }
      ]
    },
    {
      "cell_type": "markdown",
      "source": [
        "Você deve ganhar..."
      ],
      "metadata": {
        "id": "3zm6dAaSQUy1"
      }
    },
    {
      "cell_type": "code",
      "source": [
        "hr = float(input(\"Digite quantas horas você trabalhou: \"))\n",
        "min = float(input(\"Digite a quantidade de minutos que você trabalhou: \"))\n",
        "ganho = float(input(\"Digite o valor ganho por hora: \"))\n",
        "trabalhadas = hr+min/60\n",
        "extra = (trabalhadas * ganho)*0.7\n",
        "total = extra + trabalhadas * ganho\n",
        "\n",
        "print (\"Você deve ganhar: \",total)"
      ],
      "metadata": {
        "colab": {
          "base_uri": "https://localhost:8080/"
        },
        "id": "qyu4Pj7DQh44",
        "outputId": "ea5e6ed6-9154-4f7b-9f63-857929f4d10f"
      },
      "execution_count": null,
      "outputs": [
        {
          "output_type": "stream",
          "name": "stdout",
          "text": [
            "Digite quantas horas você trabalhou: 20\n",
            "Digite a quantidade de minutos que você trabalhou: 0\n",
            "Digite o valor ganho por hora: 25\n",
            "Você deve ganhar:  850.0\n"
          ]
        }
      ]
    },
    {
      "cell_type": "markdown",
      "source": [
        "Gasto de gasolina"
      ],
      "metadata": {
        "id": "LIUm8J7uSWyu"
      }
    },
    {
      "cell_type": "code",
      "source": [
        "km = float(input(\"Quantos quilometros irá percorrer: \"))\n",
        "consumo = float(input(\"Quantidade que seu carro consome de gasolina por litro: \"))\n",
        "preco = float(input(\"Preço da gasolina: \"))\n",
        "gasto = km/consumo*preco\n",
        "\n",
        "print (\"Valor gasto de gasolina: \",gasto)"
      ],
      "metadata": {
        "colab": {
          "base_uri": "https://localhost:8080/"
        },
        "id": "ijXnlLK8Saqj",
        "outputId": "4403da72-eafd-4e5e-8f37-57989f4c8d79"
      },
      "execution_count": null,
      "outputs": [
        {
          "output_type": "stream",
          "name": "stdout",
          "text": [
            "Quantos quilometros irá percorrer: 500\n",
            "Quantidade que seu carro consome de gasolina por litro: 5\n",
            "Preço da gasolina: 5.00\n",
            "Valor gasto de gasolina:  500.0\n"
          ]
        }
      ]
    },
    {
      "cell_type": "code",
      "source": [
        "km = float(input(\"Digite os quilometros a percorrer: \"))\n",
        "hg = float(input(\"Digite o tempo gasto nesse percurso: \"))\n",
        "min = float(input(\"Digite os minutos que você gastou: \"))\n",
        "\n",
        "tempo = hg + (min/60)\n",
        "vm = km/tempo\n",
        "resposta = round(vm,2)\n",
        "\n",
        "print(\"A velocidade média foi de: \",resposta)"
      ],
      "metadata": {
        "colab": {
          "base_uri": "https://localhost:8080/"
        },
        "id": "aQ1NZF0rUwp-",
        "outputId": "7cb2f3c8-d696-49d0-b6a0-fabe9d4af5c3"
      },
      "execution_count": null,
      "outputs": [
        {
          "output_type": "stream",
          "name": "stdout",
          "text": [
            "Digite os quilometros a percorrer: 60\n",
            "Digite o tempo gasto nesse percurso: 60\n",
            "Digite os minutos que você gastou: 60\n",
            "A velocidade média foi de:  0.98\n"
          ]
        }
      ]
    }
  ]
}